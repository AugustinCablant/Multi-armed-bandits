{
 "cells": [
  {
   "cell_type": "code",
   "execution_count": 1,
   "metadata": {},
   "outputs": [],
   "source": [
    "import numpy as np \n",
    "import matplotlib.pyplot as plt\n",
    "from tqdm import tqdm\n",
    "from tree import Tree\n",
    "np.random.seed(2024)"
   ]
  },
  {
   "cell_type": "markdown",
   "metadata": {},
   "source": [
    "# The Exp3 Algorithm\n",
    "\n",
    "\\begin{aligned}\n",
    "&\\textbf{Input: } n, k, \\eta \\\\\n",
    "&\\text{Set } \\hat{S}_i^0 = 0 \\text{ for all } i \\in \\{1, \\dots, k\\} \\\\\n",
    "&\\textbf{for } t = 1, \\dots, n \\textbf{ do} \\\\\n",
    "&\\quad \\text{Calculate the sampling distribution } P_t: \\\\\n",
    "&\\quad \\quad P_{i,t} = \\frac{\\exp\\left(\\eta \\hat{S}_i^{t-1}\\right)}{\\sum_{j=1}^k \\exp\\left(\\eta \\hat{S}_j^{t-1}\\right)} \\\\\n",
    "&\\quad \\text{Sample } A_t \\sim P_t \\text{ and observe reward } X_t \\\\\n",
    "&\\quad \\text{Update } \\hat{S}_i^t \\text{ accordingly.} : \\hat{S}_i^t = \\hat{S}_i^{t-1} + \\frac{X_t}{P_{i,t}}\\\\\n",
    "&\\textbf{end for}\n",
    "\\end{aligned}\n"
   ]
  },
  {
   "cell_type": "code",
   "execution_count": 2,
   "metadata": {},
   "outputs": [
    {
     "name": "stderr",
     "output_type": "stream",
     "text": [
      "100%|██████████| 100/100 [00:01<00:00, 82.11it/s]\n"
     ]
    },
    {
     "data": {
      "image/png": "[encoded data removed]",
      "text/plain": [
       "<Figure size 640x480 with 1 Axes>"
      ]
     },
     "metadata": {},
     "output_type": "display_data"
    }
   ],
   "source": [
    "class Exp3:\n",
    "    def __init__(self, K, eta, n):\n",
    "        self.K = K\n",
    "        self.eta = eta\n",
    "        self.n = n\n",
    "        self.S_hat = np.zeros(K)\n",
    "        self.P_hat = np.ones(K) / K\n",
    "        self.regret = np.zeros(n)\n",
    "        self.cumulative_regret = None \n",
    "\n",
    "    def update(self, xt, index_arm):\n",
    "        self.S_hat[index_arm] += xt / self.P_hat[index_arm] \n",
    "        self.P_hat = np.exp(self.eta * self.S_hat) \n",
    "        self.P_hat /= np.sum(self.P_hat)\n",
    "    \n",
    "    def select_arm(self):\n",
    "        return np.random.choice(self.K, p = self.P_hat)\n",
    "    \n",
    "    def run(self, rewards):\n",
    "        regret = np.zeros(self.n)\n",
    "        for t in range(self.n):\n",
    "            index_arm = self.select_arm()\n",
    "            reward = rewards[t, index_arm]\n",
    "            self.update(reward, index_arm)\n",
    "            self.regret[t] = np.max(rewards[t, :]) - reward\n",
    "        self.cumulative_regret = np.cumsum(self.regret)\n",
    "        \n",
    "    \n",
    "def main():\n",
    "    K = 6\n",
    "    n = 10 ** 3\n",
    "    T = 10 ** 2\n",
    "    eta = np.sqrt(2 * np.log(K) / (n * K))\n",
    "    rewards = np.random.binomial(1, 0.5, (n, K))\n",
    "    regret = np.zeros((T, n))\n",
    "    for t in tqdm(range(T)):\n",
    "        exp3 = Exp3(K, eta, n)\n",
    "        exp3.run(rewards)\n",
    "        regret[t] = exp3.cumulative_regret\n",
    "    regret = np.mean(regret, axis = 0)\n",
    "    plt.plot(np.cumsum(regret))\n",
    "    plt.xlabel('t')\n",
    "    plt.ylabel('Cumulative Regret')\n",
    "    plt.title('Exp3')\n",
    "    plt.show()\n",
    "\n",
    "if __name__ == '__main__':\n",
    "    main()"
   ]
  },
  {
   "cell_type": "markdown",
   "metadata": {},
   "source": [
    "# The NEW algorithm \n",
    "\n",
    "$\\textbf{Algorithm: Nested Exponential Weights (NEW)}$\n",
    "\n",
    "\\begin{aligned}\n",
    "&\\textbf{Require:} \\quad \\mathcal{A}: \\text{Set of alternatives}, \\; \\mathcal{S} = \\{S_l\\}_{l=1}^L: \\text{Attribute structure}, \\; \\mu = \\{\\mu_1, \\dots, \\mu_L\\} > 0, \\; \\eta_t \\geq 0: \\text{Learning rate}, \\; n: \\text{Number of iterations} \\\\\n",
    "&\\textbf{Input:} \\quad \\{r_t\\}_{t=1}^n \\in [0,1]^{\\mathcal{S}}: \\text{Sequence of costs} \\\\\n",
    "&\\textbf{Initialize:} \\quad y \\leftarrow 0 \\in \\mathbb{R}^{\\mathcal{A}}, \\; \\hat{S} \\leftarrow \\{0 \\; \\forall \\; S \\in \\mathcal{S}\\} \\\\\n",
    "&\\textbf{For } t = 1, \\dots, n \\textbf{ do:} \\\\\n",
    "&\\quad \\textbf{Scoring Phase:} \\\\\n",
    "&\\quad \\textbf{For } l = L-1 \\textbf{ to } 0 \\textbf{ do:} \\\\\n",
    "&\\quad \\quad \\textbf{For each } S \\in S_l: \\\\\n",
    "&\\quad \\quad \\quad y_S \\leftarrow \\mu_{l+1} \\cdot \\log \\left( \\sum_{S' \\subseteq S} \\exp \\left( \\frac{y_{S'}}{\\mu_{l+1}} \\right) \\right) \\\\\n",
    "&\\quad \\quad \\quad \\hat{S}[S] \\leftarrow 0 \\; \\text{(Reset baseline guess for class } S\\text{)} \\\\\n",
    "&\\quad \\textbf{Selection Phase:} \\\\\n",
    "&\\quad \\textbf{For } l = 1 \\textbf{ to } L \\textbf{ do:} \\\\\n",
    "&\\quad \\quad \\textbf{For each } S \\in S_l: \\\\\n",
    "&\\quad \\quad \\quad P(S) \\leftarrow \\frac{\\exp \\left( \\eta_t \\cdot \\frac{y_S}{\\mu_l} \\right)}{\\sum_{S \\in S_l} \\exp \\left( \\eta_t \\cdot \\frac{y_S}{\\mu_l} \\right)} \\\\\n",
    "&\\quad \\quad \\quad \\text{Sample } S \\sim P(S) \\\\\n",
    "&\\quad \\quad \\quad \\text{Observe reward } r_{S,t} \\\\\n",
    "&\\quad \\quad \\quad \\hat{S}[S] \\leftarrow \\hat{S}[S] + r_{S,t} \\; \\text{(Update rewards for class } S\\text{)} \\\\\n",
    "&\\quad \\textbf{Update Propensities:} \\\\\n",
    "&\\quad \\textbf{For each } a \\in \\mathcal{A}: \\\\\n",
    "&\\quad \\quad \\hat{c}[a] \\leftarrow \\sum_{S \\ni a} \\hat{S}[S] \\\\\n",
    "&\\quad \\quad y[a] \\leftarrow y[a] - \\hat{c}[a] \\\\\n",
    "&\\textbf{End For} \\\\\n",
    "&\\textbf{Output:} \\quad \\text{Cumulative regret, Updated propensity scores}\n",
    "\\end{aligned}\n",
    "\n",
    "\n"
   ]
  },
  {
   "cell_type": "code",
   "execution_count": 3,
   "metadata": {},
   "outputs": [
    {
     "name": "stdout",
     "output_type": "stream",
     "text": [
      "{'Training': 0, 'SPEED': 1, 'ENDURANCE': 2, 'RECUPERATION': 3, 'short vma': 4, 'hills': 5, 'threshold': 6, 'fartleck': 7, 'cold water': 8, 'footing': 9}\n"
     ]
    },
    {
     "name": "stderr",
     "output_type": "stream",
     "text": [
      "  6%|▌         | 6/100 [00:00<00:03, 24.91it/s]"
     ]
    },
    {
     "name": "stdout",
     "output_type": "stream",
     "text": [
      "End of NEW algorithm\n",
      "End of NEW algorithm\n",
      "End of NEW algorithm\n",
      "End of NEW algorithm\n",
      "End of NEW algorithm\n",
      "End of NEW algorithm\n",
      "End of NEW algorithm\n",
      "End of NEW algorithm\n",
      "End of NEW algorithm\n"
     ]
    },
    {
     "name": "stderr",
     "output_type": "stream",
     "text": [
      " 12%|█▏        | 12/100 [00:00<00:03, 24.83it/s]"
     ]
    },
    {
     "name": "stdout",
     "output_type": "stream",
     "text": [
      "End of NEW algorithm\n",
      "End of NEW algorithm\n",
      "End of NEW algorithm\n",
      "End of NEW algorithm\n",
      "End of NEW algorithm\n",
      "End of NEW algorithm\n"
     ]
    },
    {
     "name": "stderr",
     "output_type": "stream",
     "text": [
      " 15%|█▌        | 15/100 [00:00<00:03, 24.28it/s]"
     ]
    },
    {
     "name": "stdout",
     "output_type": "stream",
     "text": [
      "End of NEW algorithm\n",
      "End of NEW algorithm\n"
     ]
    },
    {
     "name": "stderr",
     "output_type": "stream",
     "text": [
      " 21%|██        | 21/100 [00:00<00:03, 23.84it/s]"
     ]
    },
    {
     "name": "stdout",
     "output_type": "stream",
     "text": [
      "End of NEW algorithm\n",
      "End of NEW algorithm\n",
      "End of NEW algorithm\n",
      "End of NEW algorithm\n"
     ]
    },
    {
     "name": "stderr",
     "output_type": "stream",
     "text": [
      " 24%|██▍       | 24/100 [00:00<00:03, 24.66it/s]"
     ]
    },
    {
     "name": "stdout",
     "output_type": "stream",
     "text": [
      "End of NEW algorithm\n",
      "End of NEW algorithm\n",
      "End of NEW algorithm\n"
     ]
    },
    {
     "name": "stderr",
     "output_type": "stream",
     "text": [
      " 27%|██▋       | 27/100 [00:01<00:02, 25.14it/s]"
     ]
    },
    {
     "name": "stdout",
     "output_type": "stream",
     "text": [
      "End of NEW algorithm\n",
      "End of NEW algorithm\n",
      "End of NEW algorithm\n",
      "End of NEW algorithm\n",
      "End of NEW algorithm\n"
     ]
    },
    {
     "name": "stderr",
     "output_type": "stream",
     "text": [
      " 30%|███       | 30/100 [00:01<00:02, 24.89it/s]"
     ]
    },
    {
     "name": "stdout",
     "output_type": "stream",
     "text": [
      "End of NEW algorithm\n",
      "End of NEW algorithm\n",
      "End of NEW algorithm\n",
      "End of NEW algorithm\n"
     ]
    },
    {
     "name": "stderr",
     "output_type": "stream",
     "text": [
      " 36%|███▌      | 36/100 [00:01<00:02, 24.93it/s]"
     ]
    },
    {
     "name": "stdout",
     "output_type": "stream",
     "text": [
      "End of NEW algorithm\n",
      "End of NEW algorithm\n",
      "End of NEW algorithm\n"
     ]
    },
    {
     "name": "stderr",
     "output_type": "stream",
     "text": [
      " 39%|███▉      | 39/100 [00:01<00:02, 25.41it/s]"
     ]
    },
    {
     "name": "stdout",
     "output_type": "stream",
     "text": [
      "End of NEW algorithm\n",
      "End of NEW algorithm\n",
      "End of NEW algorithm\n",
      "End of NEW algorithm\n",
      "End of NEW algorithm\n",
      "End of NEW algorithm\n"
     ]
    },
    {
     "name": "stderr",
     "output_type": "stream",
     "text": [
      " 42%|████▏     | 42/100 [00:01<00:02, 25.64it/s]"
     ]
    },
    {
     "name": "stdout",
     "output_type": "stream",
     "text": [
      "End of NEW algorithm\n",
      "End of NEW algorithm\n",
      "End of NEW algorithm\n"
     ]
    },
    {
     "name": "stderr",
     "output_type": "stream",
     "text": [
      " 48%|████▊     | 48/100 [00:01<00:02, 25.86it/s]"
     ]
    },
    {
     "name": "stdout",
     "output_type": "stream",
     "text": [
      "End of NEW algorithm\n",
      "End of NEW algorithm\n",
      "End of NEW algorithm\n",
      "End of NEW algorithm\n",
      "End of NEW algorithm\n",
      "End of NEW algorithm\n"
     ]
    },
    {
     "name": "stderr",
     "output_type": "stream",
     "text": [
      " 54%|█████▍    | 54/100 [00:02<00:01, 26.11it/s]"
     ]
    },
    {
     "name": "stdout",
     "output_type": "stream",
     "text": [
      "End of NEW algorithm\n",
      "End of NEW algorithm\n",
      "End of NEW algorithm\n"
     ]
    },
    {
     "name": "stderr",
     "output_type": "stream",
     "text": [
      " 57%|█████▋    | 57/100 [00:02<00:01, 25.27it/s]"
     ]
    },
    {
     "name": "stdout",
     "output_type": "stream",
     "text": [
      "End of NEW algorithm\n",
      "End of NEW algorithm\n",
      "End of NEW algorithm\n",
      "End of NEW algorithm\n",
      "End of NEW algorithm\n",
      "End of NEW algorithm\n"
     ]
    },
    {
     "name": "stderr",
     "output_type": "stream",
     "text": [
      " 63%|██████▎   | 63/100 [00:02<00:01, 25.84it/s]"
     ]
    },
    {
     "name": "stdout",
     "output_type": "stream",
     "text": [
      "End of NEW algorithm\n",
      "End of NEW algorithm\n",
      "End of NEW algorithm\n"
     ]
    },
    {
     "name": "stderr",
     "output_type": "stream",
     "text": [
      " 69%|██████▉   | 69/100 [00:02<00:01, 25.54it/s]"
     ]
    },
    {
     "name": "stdout",
     "output_type": "stream",
     "text": [
      "End of NEW algorithm\n",
      "End of NEW algorithm\n",
      "End of NEW algorithm\n",
      "End of NEW algorithm\n",
      "End of NEW algorithm\n",
      "End of NEW algorithm\n"
     ]
    },
    {
     "name": "stderr",
     "output_type": "stream",
     "text": [
      " 72%|███████▏  | 72/100 [00:02<00:01, 25.45it/s]"
     ]
    },
    {
     "name": "stdout",
     "output_type": "stream",
     "text": [
      "End of NEW algorithm\n",
      "End of NEW algorithm\n",
      "End of NEW algorithm\n"
     ]
    },
    {
     "name": "stderr",
     "output_type": "stream",
     "text": [
      " 75%|███████▌  | 75/100 [00:02<00:00, 25.65it/s]"
     ]
    },
    {
     "name": "stdout",
     "output_type": "stream",
     "text": [
      "End of NEW algorithm\n",
      "End of NEW algorithm\n",
      "End of NEW algorithm\n",
      "End of NEW algorithm\n",
      "End of NEW algorithm\n",
      "End of NEW algorithm\n"
     ]
    },
    {
     "name": "stderr",
     "output_type": "stream",
     "text": [
      " 81%|████████  | 81/100 [00:03<00:00, 25.87it/s]"
     ]
    },
    {
     "name": "stdout",
     "output_type": "stream",
     "text": [
      "End of NEW algorithm\n",
      "End of NEW algorithm\n",
      "End of NEW algorithm\n"
     ]
    },
    {
     "name": "stderr",
     "output_type": "stream",
     "text": [
      " 87%|████████▋ | 87/100 [00:03<00:00, 26.00it/s]"
     ]
    },
    {
     "name": "stdout",
     "output_type": "stream",
     "text": [
      "End of NEW algorithm\n",
      "End of NEW algorithm\n",
      "End of NEW algorithm\n",
      "End of NEW algorithm\n",
      "End of NEW algorithm\n",
      "End of NEW algorithm\n"
     ]
    },
    {
     "name": "stderr",
     "output_type": "stream",
     "text": [
      " 90%|█████████ | 90/100 [00:03<00:00, 25.19it/s]"
     ]
    },
    {
     "name": "stdout",
     "output_type": "stream",
     "text": [
      "End of NEW algorithm\n",
      "End of NEW algorithm\n",
      "End of NEW algorithm\n"
     ]
    },
    {
     "name": "stderr",
     "output_type": "stream",
     "text": [
      " 96%|█████████▌| 96/100 [00:03<00:00, 25.00it/s]"
     ]
    },
    {
     "name": "stdout",
     "output_type": "stream",
     "text": [
      "End of NEW algorithm\n",
      "End of NEW algorithm\n",
      "End of NEW algorithm\n",
      "End of NEW algorithm\n",
      "End of NEW algorithm\n",
      "End of NEW algorithm\n",
      "End of NEW algorithm\n",
      "End of NEW algorithm\n",
      "End of NEW algorithm\n"
     ]
    },
    {
     "name": "stderr",
     "output_type": "stream",
     "text": [
      "100%|██████████| 100/100 [00:03<00:00, 25.27it/s]\n"
     ]
    },
    {
     "name": "stdout",
     "output_type": "stream",
     "text": [
      "End of NEW algorithm\n"
     ]
    },
    {
     "data": {
      "image/png": "[encoded data removed]",
      "text/plain": [
       "<Figure size 640x480 with 1 Axes>"
      ]
     },
     "metadata": {},
     "output_type": "display_data"
    }
   ],
   "source": [
    "class NEW:\n",
    "    def __init__(self, A, S, mu, eta, n):\n",
    "        \"\"\"\n",
    "        A: Set of alternatives\n",
    "        S: Attribute structure (list of levels Sl) \n",
    "        mu: List of uncertainty levels μ1, ..., μL > 0\n",
    "        eta: Learning rate ηt\n",
    "        n: Number of iterations\n",
    "        \"\"\"\n",
    "        self.A = A\n",
    "        self.S = S\n",
    "        self.indices = S.assign_indices()\n",
    "        self.mu = mu   # we consider mu as fixed for simplicity\n",
    "        self.eta = eta    # we consider eta as fixed for simplicity\n",
    "        self.n = n\n",
    "        self.y = np.zeros(len(A))\n",
    "        self.r_hat = np.zeros(len(self.S.get_all_nodes()))\n",
    "        self.regret = np.zeros(n)\n",
    "        self.cumulative_regret = np.zeros(n)\n",
    "\n",
    "    def run(self, costs):\n",
    "        regret = np.zeros(self.n)\n",
    "        for t in range(self.n):\n",
    "            # scoring phase \n",
    "            self.scoring_phase()\n",
    "\n",
    "            # selection phase\n",
    "            path, reward = self.selection_phase(costs[t])\n",
    "\n",
    "            # loss model\n",
    "            self.update(reward)\n",
    "\n",
    "            # Regret computation\n",
    "            self.compute_regret(reward, costs, t)\n",
    "        self.cumulative_regret = np.cumsum(self.regret)  \n",
    "        print(\"End of NEW algorithm\")\n",
    "            \n",
    "\n",
    "\n",
    "    def scoring_phase(self):\n",
    "        # Get all nodes in reverse order of levels\n",
    "        nodes = self.S.get_all_nodes()\n",
    "        nodes_by_level = sorted(nodes, key=lambda x: -x.level)\n",
    "\n",
    "        # Iterate through levels from L-1 to 0\n",
    "        for node in nodes_by_level:\n",
    "            if node.children:\n",
    "                # Compute y_S using children scores\n",
    "                exp_scores = np.array([np.exp(child.value / self.mu) for child in node.children])\n",
    "                log_sum_exp = np.log(exp_scores.sum())\n",
    "                node.value = self.mu * log_sum_exp + self.mu\n",
    "            \n",
    "    \n",
    "    def selection_phase(self, cost):\n",
    "        path = []\n",
    "        current_node = self.S.root\n",
    "\n",
    "        while current_node.children:\n",
    "            # Compute probabilities for current node's children\n",
    "            children = current_node.children\n",
    "            scores = np.array([child.value for child in children])\n",
    "            exp_scores = np.exp(self.eta * scores / self.mu)\n",
    "            probabilities = exp_scores / exp_scores.sum()\n",
    "\n",
    "            # Select child based on probabilities\n",
    "            selected_index = np.random.choice(len(children), p = probabilities)\n",
    "            selected_node = children[selected_index]\n",
    "            indice_cost = self.indices[selected_node.name]\n",
    "            r = cost[indice_cost]\n",
    "            self.r_hat[indice_cost] = r\n",
    "            \n",
    "            # Update path and current node\n",
    "            path.append(selected_node.name)\n",
    "            current_node = selected_node\n",
    "\n",
    "        # Get the reward for the selected leaf\n",
    "        leaf_index = self.indices[current_node.name]\n",
    "        reward = cost[leaf_index]\n",
    "\n",
    "        return path, reward\n",
    "    \n",
    "    def update(self, reward):\n",
    "        for node in self.S.get_all_nodes():\n",
    "            if node.children: \n",
    "                index = self.indices[node.name]\n",
    "                self.y[index] -= self.r_hat[index]\n",
    "                self.r_hat[index] = reward\n",
    "\n",
    "    def compute_regret(self, reward, costs, t):\n",
    "        optimal_reward = max(costs[t])   # Assume optimal reward is max\n",
    "        self.regret[t] = (optimal_reward - reward)\n",
    "\n",
    "        \n",
    "        \n",
    "\n",
    "\n",
    "\n",
    "def main():\n",
    "    A = np.arange(6)  # Alternatives : \"short vma\", \"hills\", \"threshold\", \"fartleck\", \"cold water\", \"footing\"\n",
    "    S = Tree()\n",
    "    root = S.insert(None, ('Training', 0.0))\n",
    "    SPEED, _ = S.insert(root, ('SPEED', 0.0))\n",
    "    ENDURANCE, _ = S.insert(root, ('ENDURANCE', 0.0))\n",
    "    RECUPERATION, _ = S.insert(root, ('RECUPERATION', 0.0))\n",
    "    S.insert(SPEED, ('short vma', 0.5))\n",
    "    S.insert(SPEED, ('hills', 0.5))\n",
    "    S.insert(ENDURANCE, ('threshold', 0.8))\n",
    "    S.insert(ENDURANCE, ('fartleck', 0.3))\n",
    "    S.insert(RECUPERATION, ('cold water', 0.1))\n",
    "    S.insert(RECUPERATION, ('footing', 0.6))\n",
    "    print(S.assign_indices())\n",
    "    L = 2\n",
    "    n_l = 2\n",
    "    Rl_bar = 1    # We assume R_S = 1\n",
    "    n_eff = (L * np.sqrt(n_l) * Rl_bar) ** 2\n",
    "    mu = np.sqrt(n_eff / 2)     # sqrt(n_eff / 2)\n",
    "    n = 10 ** 3  # Number of iterations\n",
    "    T = 10 ** 2  # Number of simulations\n",
    "    eta = 0.1  # Learning rate\n",
    "    rewards = np.random.uniform(0, 1, size = (n, len(S.assign_indices())))  # Random costs in [0,1]\n",
    "    regret = np.zeros((T, n))\n",
    "    for t in tqdm(range(T)):\n",
    "        new_algorithm = NEW(A, S, mu, eta, n)\n",
    "        new_algorithm.run(rewards)\n",
    "        regret[t] = new_algorithm.cumulative_regret\n",
    "    \n",
    "    avg_regret = np.mean(regret, axis=0)\n",
    "    plt.plot(avg_regret)\n",
    "    plt.xlabel('t')\n",
    "    plt.ylabel('Cumulative Regret')\n",
    "    plt.title('NEW Algorithm')\n",
    "    plt.show()\n",
    "\n",
    "if __name__ == \"__main__\":\n",
    "    main()"
   ]
  },
  {
   "cell_type": "code",
   "execution_count": 18,
   "metadata": {},
   "outputs": [
    {
     "name": "stdout",
     "output_type": "stream",
     "text": [
      "{'Training': 0, 'SPEED': 1, 'ENDURANCE': 2, 'RECUPERATION': 3, 'short vma': 4, 'hills': 5, 'threshold': 6, 'fartleck': 7, 'cold water': 8, 'footing': 9}\n"
     ]
    },
    {
     "name": "stderr",
     "output_type": "stream",
     "text": [
      "  2%|▏         | 2/100 [00:00<00:05, 17.51it/s]"
     ]
    },
    {
     "name": "stdout",
     "output_type": "stream",
     "text": [
      "End of NEW algorithm\n",
      "End of NEW algorithm\n",
      "End of NEW algorithm\n",
      "End of NEW algorithm\n"
     ]
    },
    {
     "name": "stderr",
     "output_type": "stream",
     "text": [
      "  6%|▌         | 6/100 [00:00<00:05, 18.73it/s]"
     ]
    },
    {
     "name": "stdout",
     "output_type": "stream",
     "text": [
      "End of NEW algorithm\n",
      "End of NEW algorithm\n"
     ]
    },
    {
     "name": "stderr",
     "output_type": "stream",
     "text": [
      "  8%|▊         | 8/100 [00:00<00:04, 19.01it/s]"
     ]
    },
    {
     "name": "stdout",
     "output_type": "stream",
     "text": [
      "End of NEW algorithm\n",
      "End of NEW algorithm\n",
      "End of NEW algorithm\n",
      "End of NEW algorithm\n"
     ]
    },
    {
     "name": "stderr",
     "output_type": "stream",
     "text": [
      " 10%|█         | 10/100 [00:00<00:04, 18.63it/s]"
     ]
    },
    {
     "name": "stdout",
     "output_type": "stream",
     "text": [
      "End of NEW algorithm\n",
      "End of NEW algorithm\n"
     ]
    },
    {
     "name": "stderr",
     "output_type": "stream",
     "text": [
      " 14%|█▍        | 14/100 [00:00<00:04, 18.14it/s]"
     ]
    },
    {
     "name": "stdout",
     "output_type": "stream",
     "text": [
      "End of NEW algorithm\n",
      "End of NEW algorithm\n",
      "End of NEW algorithm\n"
     ]
    },
    {
     "name": "stderr",
     "output_type": "stream",
     "text": [
      " 16%|█▌        | 16/100 [00:00<00:04, 18.25it/s]"
     ]
    },
    {
     "name": "stdout",
     "output_type": "stream",
     "text": [
      "End of NEW algorithm\n",
      "End of NEW algorithm\n"
     ]
    },
    {
     "name": "stderr",
     "output_type": "stream",
     "text": [
      " 20%|██        | 20/100 [00:01<00:04, 18.35it/s]"
     ]
    },
    {
     "name": "stdout",
     "output_type": "stream",
     "text": [
      "End of NEW algorithm\n",
      "End of NEW algorithm\n",
      "End of NEW algorithm\n",
      "End of NEW algorithm\n",
      "End of NEW algorithm\n"
     ]
    },
    {
     "name": "stderr",
     "output_type": "stream",
     "text": [
      " 26%|██▌       | 26/100 [00:01<00:03, 18.61it/s]"
     ]
    },
    {
     "name": "stdout",
     "output_type": "stream",
     "text": [
      "End of NEW algorithm\n",
      "End of NEW algorithm\n",
      "End of NEW algorithm\n",
      "End of NEW algorithm\n",
      "End of NEW algorithm\n",
      "End of NEW algorithm\n"
     ]
    },
    {
     "name": "stderr",
     "output_type": "stream",
     "text": [
      " 34%|███▍      | 34/100 [00:01<00:03, 19.36it/s]"
     ]
    },
    {
     "name": "stdout",
     "output_type": "stream",
     "text": [
      "End of NEW algorithm\n",
      "End of NEW algorithm\n",
      "End of NEW algorithm\n",
      "End of NEW algorithm\n",
      "End of NEW algorithm\n",
      "End of NEW algorithm\n"
     ]
    },
    {
     "name": "stderr",
     "output_type": "stream",
     "text": [
      " 38%|███▊      | 38/100 [00:02<00:03, 19.35it/s]"
     ]
    },
    {
     "name": "stdout",
     "output_type": "stream",
     "text": [
      "End of NEW algorithm\n",
      "End of NEW algorithm\n",
      "End of NEW algorithm\n",
      "End of NEW algorithm\n",
      "End of NEW algorithm\n",
      "End of NEW algorithm\n"
     ]
    },
    {
     "name": "stderr",
     "output_type": "stream",
     "text": [
      " 45%|████▌     | 45/100 [00:02<00:02, 20.50it/s]"
     ]
    },
    {
     "name": "stdout",
     "output_type": "stream",
     "text": [
      "End of NEW algorithm\n",
      "End of NEW algorithm\n",
      "End of NEW algorithm\n",
      "End of NEW algorithm\n",
      "End of NEW algorithm\n",
      "End of NEW algorithm\n",
      "End of NEW algorithm\n",
      "End of NEW algorithm\n"
     ]
    },
    {
     "name": "stderr",
     "output_type": "stream",
     "text": [
      " 54%|█████▍    | 54/100 [00:02<00:02, 19.51it/s]"
     ]
    },
    {
     "name": "stdout",
     "output_type": "stream",
     "text": [
      "End of NEW algorithm\n",
      "End of NEW algorithm\n",
      "End of NEW algorithm\n",
      "End of NEW algorithm\n",
      "End of NEW algorithm\n",
      "End of NEW algorithm\n"
     ]
    },
    {
     "name": "stderr",
     "output_type": "stream",
     "text": [
      " 60%|██████    | 60/100 [00:03<00:02, 18.83it/s]"
     ]
    },
    {
     "name": "stdout",
     "output_type": "stream",
     "text": [
      "End of NEW algorithm\n",
      "End of NEW algorithm\n",
      "End of NEW algorithm\n",
      "End of NEW algorithm\n",
      "End of NEW algorithm\n",
      "End of NEW algorithm\n"
     ]
    },
    {
     "name": "stderr",
     "output_type": "stream",
     "text": [
      " 64%|██████▍   | 64/100 [00:03<00:01, 18.04it/s]"
     ]
    },
    {
     "name": "stdout",
     "output_type": "stream",
     "text": [
      "End of NEW algorithm\n",
      "End of NEW algorithm\n",
      "End of NEW algorithm\n",
      "End of NEW algorithm\n",
      "End of NEW algorithm\n",
      "End of NEW algorithm\n"
     ]
    },
    {
     "name": "stderr",
     "output_type": "stream",
     "text": [
      " 70%|███████   | 70/100 [00:03<00:01, 18.76it/s]"
     ]
    },
    {
     "name": "stdout",
     "output_type": "stream",
     "text": [
      "End of NEW algorithm\n",
      "End of NEW algorithm\n",
      "End of NEW algorithm\n",
      "End of NEW algorithm\n",
      "End of NEW algorithm\n",
      "End of NEW algorithm\n"
     ]
    },
    {
     "name": "stderr",
     "output_type": "stream",
     "text": [
      " 76%|███████▌  | 76/100 [00:04<00:01, 19.27it/s]"
     ]
    },
    {
     "name": "stdout",
     "output_type": "stream",
     "text": [
      "End of NEW algorithm\n",
      "End of NEW algorithm\n",
      "End of NEW algorithm\n",
      "End of NEW algorithm\n",
      "End of NEW algorithm\n",
      "End of NEW algorithm\n"
     ]
    },
    {
     "name": "stderr",
     "output_type": "stream",
     "text": [
      " 82%|████████▏ | 82/100 [00:04<00:00, 19.08it/s]"
     ]
    },
    {
     "name": "stdout",
     "output_type": "stream",
     "text": [
      "End of NEW algorithm\n",
      "End of NEW algorithm\n",
      "End of NEW algorithm\n",
      "End of NEW algorithm\n",
      "End of NEW algorithm\n",
      "End of NEW algorithm\n"
     ]
    },
    {
     "name": "stderr",
     "output_type": "stream",
     "text": [
      " 90%|█████████ | 90/100 [00:04<00:00, 18.65it/s]"
     ]
    },
    {
     "name": "stdout",
     "output_type": "stream",
     "text": [
      "End of NEW algorithm\n",
      "End of NEW algorithm\n",
      "End of NEW algorithm\n",
      "End of NEW algorithm\n",
      "End of NEW algorithm\n",
      "End of NEW algorithm\n",
      "End of NEW algorithm\n",
      "End of NEW algorithm\n"
     ]
    },
    {
     "name": "stderr",
     "output_type": "stream",
     "text": [
      "100%|██████████| 100/100 [00:05<00:00, 18.47it/s]"
     ]
    },
    {
     "name": "stdout",
     "output_type": "stream",
     "text": [
      "End of NEW algorithm\n",
      "End of NEW algorithm\n",
      "End of NEW algorithm\n",
      "End of NEW algorithm\n",
      "End of NEW algorithm\n",
      "End of NEW algorithm\n",
      "End of NEW algorithm\n",
      "End of NEW algorithm\n"
     ]
    },
    {
     "name": "stderr",
     "output_type": "stream",
     "text": [
      "100%|██████████| 100/100 [00:05<00:00, 18.89it/s]\n"
     ]
    },
    {
     "data": {
      "image/png": "[encoded data removed]",
      "text/plain": [
       "<Figure size 1000x600 with 1 Axes>"
      ]
     },
     "metadata": {},
     "output_type": "display_data"
    }
   ],
   "source": [
    "A = np.arange(6)  # Alternatives : \"short vma\", \"hills\", \"threshold\", \"fartleck\", \"cold water\", \"footing\"\n",
    "L = 2\n",
    "n_l = 2\n",
    "Rl_bar = 1    # We assume R_S = 1\n",
    "n_eff = (L * np.sqrt(n_l) * Rl_bar) ** 2\n",
    "mu = np.sqrt(n_eff / 2)     # sqrt(n_eff / 2)\n",
    "n = 10 ** 3  # Number of iterations\n",
    "T = 10 ** 2  # Number of simulations\n",
    "eta = 0.1  # Learning rate\n",
    "\n",
    "\n",
    "S = Tree()\n",
    "root = S.insert(None, ('Training', 0.0))\n",
    "SPEED, _ = S.insert(root, ('SPEED', 0.3))\n",
    "ENDURANCE, _ = S.insert(root, ('ENDURANCE', 0.8))\n",
    "RECUPERATION, _ = S.insert(root, ('RECUPERATION', 0.2))\n",
    "S.insert(SPEED, ('short vma', 0.5))\n",
    "S.insert(SPEED, ('hills', 0.5))     # the idea is that doing a short vma or hills training is the same for the learner \n",
    "S.insert(ENDURANCE, ('threshold', 0.8))\n",
    "S.insert(ENDURANCE, ('fartleck', 0.3))\n",
    "S.insert(RECUPERATION, ('cold water', 0.1))\n",
    "S.insert(RECUPERATION, ('footing', 0.6))\n",
    "print(S.assign_indices())\n",
    "\n",
    "def generate_random_rewards(n, S):\n",
    "    rewards = np.zeros((n, len(S.assign_indices())))\n",
    "    for i in range(n):\n",
    "        for j in range(len(S.assign_indices())):\n",
    "            prob = np.random.rand()\n",
    "            if prob < 1 / 3:\n",
    "                rewards[i, j] = np.random.uniform(0, 1) \n",
    "            elif prob < 2 / 3:\n",
    "                rewards[i, j] = np.random.normal(0, 1)\n",
    "            else:\n",
    "                rewards[i, j] = np.random.normal(0, 4)\n",
    "    return rewards\n",
    "\n",
    "\n",
    "rewards_NEW = generate_random_rewards(n, S)  # Random costs in [0,1]\n",
    "rewards_EXP3 = rewards_NEW[:, 3:]\n",
    "\n",
    "regret_NEW = np.zeros((T, n))\n",
    "regret_EXP3 = np.zeros((T, n))\n",
    "\n",
    "for t in tqdm(range(T)):\n",
    "    # EXP3\n",
    "    exp3_algorithm = Exp3(len(A), eta, n)\n",
    "    exp3_algorithm.run(rewards_EXP3)\n",
    "    regret_EXP3[t] = exp3_algorithm.cumulative_regret\n",
    "\n",
    "    # NEW\n",
    "    new_algorithm = NEW(A, S, mu, eta, n)\n",
    "    new_algorithm.run(rewards_NEW)\n",
    "    regret_NEW[t] = new_algorithm.cumulative_regret\n",
    "\n",
    "avg_regret_exp3 = np.mean(regret_EXP3, axis=0)\n",
    "var_regret_exp3 = np.var(regret_EXP3, axis=0)\n",
    "\n",
    "avg_regret_NEW = np.mean(regret_NEW, axis=0)\n",
    "var_regret_NEW = np.var(regret_NEW, axis=0)\n",
    "\n",
    "conf_interval_exp3 = 1.96 * np.sqrt(var_regret_exp3 / T)\n",
    "conf_interval_NEW = 1.96 * np.sqrt(var_regret_NEW / T)\n",
    "\n",
    "\n",
    "plt.figure(figsize = (10, 6))\n",
    "\n",
    "# EXP3\n",
    "plt.plot(avg_regret_exp3, label='EXP3 Algorithm', color='cyan')\n",
    "plt.fill_between(\n",
    "    range(len(avg_regret_exp3)),\n",
    "    avg_regret_exp3 - conf_interval_exp3,\n",
    "    avg_regret_exp3 + conf_interval_exp3,\n",
    "    color='cyan',\n",
    "    alpha=0.2\n",
    ")\n",
    "\n",
    "# NEW\n",
    "plt.plot(avg_regret_NEW, label='NEW Algorithm', color='orange')\n",
    "plt.fill_between(\n",
    "    range(len(avg_regret_NEW)),\n",
    "    avg_regret_NEW - conf_interval_NEW,\n",
    "    avg_regret_NEW + conf_interval_NEW,\n",
    "    color='orange',\n",
    "    alpha=0.2\n",
    ")\n",
    "\n",
    "plt.xlabel('t')\n",
    "plt.ylabel('Cumulative Regret')\n",
    "plt.title('EXP3 Algorithm vs NEW Algorithm on a simple example')\n",
    "plt.legend()\n",
    "plt.grid(True, linestyle='--', alpha=0.6)\n",
    "plt.tight_layout()\n",
    "plt.show()"
   ]
  },
  {
   "cell_type": "markdown",
   "metadata": {},
   "source": [
    "Peu de similarités dans les options ... Modifions légèrement l'exemple."
   ]
  },
  {
   "cell_type": "code",
   "execution_count": 40,
   "metadata": {},
   "outputs": [
    {
     "name": "stdout",
     "output_type": "stream",
     "text": [
      "Final scores of trainings:\n",
      "SPEED: 1.00\n",
      "ENDURANCE: 0.68\n",
      "RECUPERATION: 0.00\n",
      "\n",
      "Final scores of intervals:\n",
      "SPEED - short vma: 0.00\n",
      "SPEED - hills: 1.00\n",
      "ENDURANCE - threshold: 0.90\n",
      "ENDURANCE - fatleck: 0.00\n",
      "RECUPERATION - cold water: 0.74\n",
      "RECUPERATION - footing: 0.00\n"
     ]
    }
   ],
   "source": [
    "n_iterations = 10 ** 4\n",
    "L = 2\n",
    "n_l = 2\n",
    "Rl_bar = 1    # We assume R_S = 1\n",
    "n_eff = (L * np.sqrt(n_l) * Rl_bar) ** 2\n",
    "mu = np.sqrt(n_eff / 2)     # sqrt(n_eff / 2)\n",
    "regret = []\n",
    "cumulative_regret = 0\n",
    "\n",
    "for t in range(1, n_iterations + 1):\n",
    "    eta = np.sqrt(np.log(n_iterations) / (2 * t))  # Theorem \n",
    "    \n",
    "    # Backward phase \n",
    "    for layer in range(L, 0, -1):\n",
    "        if layer == L:\n",
    "            pass  # No need to update scores of intervals at this step\n",
    "        else:  # Update scores of the types\n",
    "            for index, type in enumerate([\"SPEED\", \"ENDURANCE\", \"RECUPERATION\"]): \n",
    "                sub_intervals, indx = return_intervals(index)\n",
    "                sub_scores = scores_interval[index, indx]\n",
    "                scores_type[index] = mu * np.log(\n",
    "                    np.sum(np.exp(sub_scores / mu))\n",
    "                )\n",
    "    \n",
    "    scores_type = normalize(scores_type)\n",
    "    # End of backward phase \n",
    "\n",
    "    r_hat = np.zeros((len(type_training), len(interval)))\n",
    "    \n",
    "    # Forward phase\n",
    "    # Select class of layer 1\n",
    "    prob_type = softmax(scores_type, mu)\n",
    "    idx_type = np.random.choice(len(type_training), p=prob_type)\n",
    "    selected_training = type_training[idx_type]\n",
    "    score_selected_training = scores_type[idx_type]\n",
    "\n",
    "    # Select class of layer 2\n",
    "    name_intervals, idx = return_intervals(idx_type)\n",
    "    sub_intervals = scores_interval[idx_type, idx]\n",
    "    prob_interval_layer_2_selected = np.exp(eta * sub_intervals / mu)\n",
    "    prob_interval_layer_2_selected /= np.sum(prob_interval_layer_2_selected)\n",
    "    idx_interval = np.random.choice(len(sub_intervals), p=prob_interval_layer_2_selected)\n",
    "    r = simulate_reward(selected_training, name_intervals[idx_interval])\n",
    "    r_hat[idx_type, idx[idx_interval]] += r / prob_interval_layer_2_selected[idx_interval]\n",
    "    # End of forward phase\n",
    "    \n",
    "    # Update scores\n",
    "    for idx_type in range(len(type_training)):\n",
    "        name_intervals, idx = return_intervals(idx_type)\n",
    "        for local_idx, global_idx in enumerate(idx):\n",
    "            scores_interval[idx_type, global_idx] -= r_hat[idx_type, global_idx]\n",
    "    \n",
    "    # Normalize scores\n",
    "    for idx_type in range(len(type_training)):\n",
    "        scores_interval[idx_type] = normalize(scores_interval[idx_type])\n",
    "\n",
    "    # Regret \n",
    "    optimal_reward = optimal_rewards[selected_training]\n",
    "    cumulative_regret += (optimal_reward - r)\n",
    "    regret.append(cumulative_regret)\n",
    "\n",
    "# Résultats finaux\n",
    "print(\"Final scores of trainings:\")\n",
    "for i, type in enumerate(type_training):\n",
    "    print(f\"{type}: {scores_type[i]:.2f}\")\n",
    "\n",
    "print(\"\\nFinal scores of intervals:\")\n",
    "for i, type in enumerate(type_training):\n",
    "    sub_intervals, idx = return_intervals(i)\n",
    "    for local_idx, global_idx in enumerate(idx):\n",
    "        print(f\"{type} - {sub_intervals[local_idx]}: {scores_interval[i, global_idx]:.2f}\")"
   ]
  },
  {
   "cell_type": "code",
   "execution_count": 41,
   "metadata": {},
   "outputs": [
    {
     "data": {
      "image/png": "[encoded data removed]",
      "text/plain": [
       "<Figure size 1000x600 with 1 Axes>"
      ]
     },
     "metadata": {},
     "output_type": "display_data"
    }
   ],
   "source": [
    "plt.figure(figsize=(10, 6))\n",
    "plt.plot(range(1, n_iterations + 1), regret, label = \"Cumulative regret for NEW algorithm\", color = \"green\")\n",
    "plt.xlabel(\"Ierations\")\n",
    "plt.ylabel(\"Cumulative regret\")\n",
    "plt.legend()\n",
    "plt.grid()\n",
    "plt.show()"
   ]
  },
  {
   "cell_type": "markdown",
   "metadata": {},
   "source": [
    "Problèmes : \n",
    "- L'algorithme discrimine mal lorsqu'une solution est vraiment optimale. \n",
    "- Nécessité de connaître la structure. "
   ]
  }
 ],
 "metadata": {
  "kernelspec": {
   "display_name": "base",
   "language": "python",
   "name": "python3"
  },
  "language_info": {
   "codemirror_mode": {
    "name": "ipython",
    "version": 3
   },
   "file_extension": ".py",
   "mimetype": "text/x-python",
   "name": "python",
   "nbconvert_exporter": "python",
   "pygments_lexer": "ipython3",
   "version": "3.12.4"
  }
 },
 "nbformat": 4,
 "nbformat_minor": 2
}
